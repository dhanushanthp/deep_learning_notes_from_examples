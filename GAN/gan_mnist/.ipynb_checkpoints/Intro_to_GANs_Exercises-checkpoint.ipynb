{
 "cells": [
  {
   "cell_type": "markdown",
   "metadata": {
    "deletable": true,
    "editable": true
   },
   "source": [
    "# Generative Adversarial Network\n",
    "\n",
    "In this notebook, we'll be building a generative adversarial network (GAN) trained on the MNIST dataset. From this, we'll be able to generate new handwritten digits!\n",
    "\n",
    "GANs were [first reported on](https://arxiv.org/abs/1406.2661) in 2014 from Ian Goodfellow and others in Yoshua Bengio's lab. Since then, GANs have exploded in popularity. Here are a few examples to check out:\n",
    "\n",
    "* [Pix2Pix](https://affinelayer.com/pixsrv/) \n",
    "* [CycleGAN](https://github.com/junyanz/CycleGAN)\n",
    "* [A whole list](https://github.com/wiseodd/generative-models)\n",
    "\n",
    "The idea behind GANs is that we have two networks, a generator $G$ and a discriminator $D$, competing against each other. The generator makes fake data to pass to the discriminator. The discriminator also sees real data and predicts if the data it's received is real or fake. The generator is trained to fool the discriminator, it wants to output data that looks _as close as possible_ to real data. And the discriminator is trained to figure out which data is real and which is fake. What ends up happening is that the generator learns to make data that is indistiguishable from real data to the discriminator.\n",
    "\n",
    "![GAN diagram](assets/gan_diagram.png)\n",
    "\n",
    "The general structure of a GAN is shown in the diagram above, using MNIST images as data. The latent sample is a random vector the generator uses to contruct it's fake images. As the generator learns through training, it figures out how to map these random vectors to recognizable images that can fool the discriminator.\n",
    "\n",
    "The output of the discriminator is a sigmoid function, where 0 indicates a fake image and 1 indicates an real image. If we're interested only in generating new images, we can throw out the discriminator after training. Now, let's see how we build this thing in TensorFlow."
   ]
  },
  {
   "cell_type": "code",
   "execution_count": 1,
   "metadata": {
    "collapsed": true,
    "deletable": true,
    "editable": true
   },
   "outputs": [],
   "source": [
    "%matplotlib inline\n",
    "\n",
    "import pickle as pkl\n",
    "import numpy as np\n",
    "import tensorflow as tf\n",
    "import matplotlib.pyplot as plt"
   ]
  },
  {
   "cell_type": "code",
   "execution_count": 2,
   "metadata": {
    "collapsed": false,
    "deletable": true,
    "editable": true
   },
   "outputs": [
    {
     "name": "stdout",
     "output_type": "stream",
     "text": [
      "Extracting MNIST_data/train-images-idx3-ubyte.gz\n",
      "Extracting MNIST_data/train-labels-idx1-ubyte.gz\n",
      "Extracting MNIST_data/t10k-images-idx3-ubyte.gz\n",
      "Extracting MNIST_data/t10k-labels-idx1-ubyte.gz\n"
     ]
    }
   ],
   "source": [
    "from tensorflow.examples.tutorials.mnist import input_data\n",
    "mnist = input_data.read_data_sets('MNIST_data')"
   ]
  },
  {
   "cell_type": "markdown",
   "metadata": {
    "deletable": true,
    "editable": true
   },
   "source": [
    "## Model Inputs\n",
    "\n",
    "First we need to create the inputs for our graph. We need two inputs, one for the discriminator and one for the generator. Here we'll call the discriminator input `inputs_real` and the generator input `inputs_z`. We'll assign them the appropriate sizes for each of the networks.\n",
    "\n",
    ">**Exercise:** Finish the `model_inputs` function below. Create the placeholders for `inputs_real` and `inputs_z` using the input sizes `real_dim` and `z_dim` respectively."
   ]
  },
  {
   "cell_type": "code",
   "execution_count": 3,
   "metadata": {
    "collapsed": true,
    "deletable": true,
    "editable": true
   },
   "outputs": [],
   "source": [
    "def model_inputs(real_dim, z_dim):\n",
    "    inputs_real = tf.placeholder(tf.float32, (None, real_dim), name='input_real') \n",
    "    inputs_z = tf.placeholder(tf.float32, (None, z_dim), name='input_z')\n",
    "    \n",
    "    return inputs_real, inputs_z"
   ]
  },
  {
   "cell_type": "markdown",
   "metadata": {
    "deletable": true,
    "editable": true
   },
   "source": [
    "## Generator network\n",
    "input, z is a kind of random white noise vector that we're going to feed into the generator and the generator learns how to turn this random vector into an image in this tanh layer.\n",
    "\n",
    "ReLUs are zero. But Leaky ReLUs have some small fraction there, so like 0.01 times the value for negative numbers, and then its the same for positive numbers. And the tanh function is like a sigmoid where it squishes it, but a tanh has outputs from -1 to 1. So this means, since this is -1 to 1, is that we're actually going to have to convert our MNIST images. we're going to have to rescale them so that they're between negative 1 and 1 when we pass it to our discriminator network.\n",
    "\n",
    "\n",
    "![GAN Network](assets/gan_network.png)\n",
    "\n",
    "Here we'll build the generator network. To make this network a universal function approximator, we'll need at least one hidden layer. We should use a leaky ReLU to allow gradients to flow backwards through the layer unimpeded. A leaky ReLU is like a normal ReLU, except that there is a small non-zero output for negative input values.\n",
    "\n",
    "#### Variable Scope\n",
    "We want to name the variables in our generator, in our discriminator differently. we can do that with a name scope, but with variable scopes, we can also set it to reuse the variables. So what I mean by that is, sometimes we're going to have to create the network over again. So for example, the generator, we're going to want to train it, but we also want to sample from it. And with the discriminator, we're going to be putting in fake and real images. So when we do these different things and we're putting in fake and real images in the discriminator, we want to reuse the variables from a previous creation of the network. Cause if we don't reuse the variables, then what's going to happen when we run the function to create wer network again, it's going to create totally new variables. And we don't want to. We want to use the same variables for the fake and real input images.\n",
    "\n",
    "\n",
    "Here we need to use `tf.variable_scope` for two reasons. Firstly, we're going to make sure all the variable names start with `generator`. Similarly, we'll prepend `discriminator` to the discriminator variables. This will help out later when we're training the separate networks.\n",
    "\n",
    "We could just use `tf.name_scope` to set the names, but we also want to reuse these networks with different inputs. For the generator, we're going to train it, but also _sample from it_ as we're training and after training. The discriminator will need to share variables between the fake and real input images. So, we can use the `reuse` keyword for `tf.variable_scope` to tell TensorFlow to reuse the variables instead of creating new ones if we build the graph again.\n",
    "\n",
    "To use `tf.variable_scope`, we use a `with` statement:\n",
    "```python\n",
    "with tf.variable_scope('scope_name', reuse=False):\n",
    "    # code here\n",
    "```\n",
    "\n",
    "Here's more from [the TensorFlow documentation](https://www.tensorflow.org/programmers_guide/variable_scope#the_problem) to get another look at using `tf.variable_scope`.\n",
    "\n",
    "#### Leaky ReLU\n",
    "TensorFlow doesn't provide an operation for leaky ReLUs, so we'll need to make one . For this we can just take the outputs from a linear fully connected layer and pass them to `tf.maximum`. Typically, a parameter `alpha` sets the magnitude of the output for negative values. So, the output for negative input (`x`) values is `alpha*x`, and the output for positive `x` is `x`:\n",
    "$$\n",
    "f(x) = max(\\alpha * x, x)\n",
    "$$\n",
    "\n",
    "we're going to set max, alpha times x and x. So here, alpha is just some kind of scaling parameter-- it sets the magnitude of the output for the negative values. Typically, we have this pretty small, like, 0.01. So what this is going to do is that when x is negative, we're going to take this value, because it's going to be larger than this, and then when x is positive, we're going to take x, because it's going to be larger than this part. \n",
    "\n",
    "#### Tanh Output\n",
    "The generator has been found to perform the best with $tanh$ for the generator output. This means that we'll have to rescale the MNIST images to be between -1 and 1, instead of 0 and 1. We are going to want to output the tanh to get our new images. But we also need to return the logits so that we can pass it to sigmoid across entropy with logits.\n",
    "\n",
    "And finally, we need the tanh output on the generator.\n",
    ">**Exercise:** Implement the generator network in the function below. we'll need to return the tanh output. Make sure to wrap wer code in a variable scope, with 'generator' as the scope name, and pass the `reuse` keyword argument from the function to `tf.variable_scope`."
   ]
  },
  {
   "cell_type": "code",
   "execution_count": 4,
   "metadata": {
    "collapsed": true,
    "deletable": true,
    "editable": true
   },
   "outputs": [],
   "source": [
    "def generator(z, out_dim, n_units=128, reuse=False, alpha=0.01):\n",
    "    ''' Build the generator network.\n",
    "    \n",
    "        Arguments\n",
    "        ---------\n",
    "        z : Input tensor for the generator\n",
    "        out_dim : Shape of the generator output\n",
    "        n_units : Number of neurons in hidden layer\n",
    "        reuse : Reuse the variables with tf.variable_scope\n",
    "        alpha : leak parameter for leaky ReLU\n",
    "        \n",
    "        Returns\n",
    "        -------\n",
    "        out: \n",
    "    '''\n",
    "    with tf.variable_scope('generator', reuse=reuse):\n",
    "        # Hidden layer\n",
    "        h1 = tf.layers.dense(z, n_units, activation=None)\n",
    "        # Leaky ReLU\n",
    "        h1 = tf.maximum(alpha * h1, h1)\n",
    "        \n",
    "        # Logits and tanh output\n",
    "        logits = tf.layers.dense(h1, out_dim, activation=None)\n",
    "        out = tf.tanh(logits)\n",
    "        \n",
    "        return out"
   ]
  },
  {
   "cell_type": "markdown",
   "metadata": {
    "deletable": true,
    "editable": true
   },
   "source": [
    "## Discriminator\n",
    "\n",
    "The discriminator network is almost exactly the same as the generator network, except that we're using a sigmoid output layer.\n",
    "\n",
    ">**Exercise:** Implement the discriminator network in the function below. Same as above, we'll need to return both the logits and the sigmoid output. Make sure to wrap wer code in a variable scope, with 'discriminator' as the scope name, and pass the `reuse` keyword argument from the function arguments to `tf.variable_scope`."
   ]
  },
  {
   "cell_type": "code",
   "execution_count": 5,
   "metadata": {
    "collapsed": false,
    "deletable": true,
    "editable": true
   },
   "outputs": [],
   "source": [
    "def discriminator(x, n_units=128, reuse=False, alpha=0.01):\n",
    "    ''' Build the discriminator network.\n",
    "    \n",
    "        Arguments\n",
    "        ---------\n",
    "        x : Input tensor for the discriminator\n",
    "        n_units: Number of units in hidden layer\n",
    "        reuse : Reuse the variables with tf.variable_scope\n",
    "        alpha : leak parameter for leaky ReLU\n",
    "        \n",
    "        Returns\n",
    "        -------\n",
    "        out, logits: \n",
    "    '''\n",
    "    with tf.variable_scope('discriminator', reuse=reuse):\n",
    "        # Hidden layer\n",
    "        h1 = tf.layers.dense(x, n_units, activation=None)\n",
    "        # Leaky ReLU\n",
    "        h1 = tf.maximum(alpha * h1, h1)\n",
    "        \n",
    "        logits = tf.layers.dense(h1, 1, activation=None)\n",
    "        out = tf.sigmoid(logits)\n",
    "        \n",
    "        return out, logits"
   ]
  },
  {
   "cell_type": "markdown",
   "metadata": {
    "deletable": true,
    "editable": true
   },
   "source": [
    "## Hyperparameters"
   ]
  },
  {
   "cell_type": "markdown",
   "metadata": {},
   "source": [
    "`z_size`, This is the size of the latent vector that we're putting into the generator. So again, this is just gonna be kind of randomly generated noise that we pass into the generator and then it makes images from that. And these two set the size of the hidden layers in the generator and discriminator. \n",
    "\n",
    "So one thing to remember is that when we're working with neural networks, if we have a nonlinear hidden layer in wer network, then it can be a universal function approximator. So that's why we're using hidden layers with nonlinear activations, the leaky reLUs. \n",
    "\n",
    "And speaking of leaky reLUs, this is the leak factor, so alpha, and we can pass these to the generator and discriminator networks. And this is a parameter for label smoothing in which we'll get to next."
   ]
  },
  {
   "cell_type": "code",
   "execution_count": 6,
   "metadata": {
    "collapsed": true,
    "deletable": true,
    "editable": true
   },
   "outputs": [],
   "source": [
    "# Size of input image to discriminator\n",
    "input_size = 784 # 28x28 MNIST images flattened\n",
    "# Size of latent vector to generator\n",
    "z_size = 100\n",
    "# Sizes of hidden layers in generator and discriminator\n",
    "g_hidden_size = 128\n",
    "d_hidden_size = 128\n",
    "# Leak factor for leaky ReLU\n",
    "alpha = 0.01\n",
    "# Label smoothing \n",
    "smooth = 0.1"
   ]
  },
  {
   "cell_type": "markdown",
   "metadata": {
    "deletable": true,
    "editable": true
   },
   "source": [
    "## Build network\n",
    "\n",
    "Now we're building the network from the functions defined above.\n",
    "\n",
    "First is to get our inputs, `input_real, input_z` from `model_inputs` using the sizes of the input and z.\n",
    "\n",
    "Then, we'll create the generator, `generator(input_z, input_size)`. This builds the generator with the appropriate input and output sizes.\n",
    "\n",
    "Then the discriminators. We'll build two of them, one for real data and one for fake data. Since we want the weights to be the same for both real and fake data, we need to reuse the variables. For the fake data, we're getting it from the generator as `g_model`. So the real data discriminator is `discriminator(input_real)` while the fake discriminator is `discriminator(g_model, reuse=True)`.\n",
    "\n",
    ">**Exercise:** Build the network from the functions we defined earlier."
   ]
  },
  {
   "cell_type": "markdown",
   "metadata": {},
   "source": [
    "So here is where we're going to build the network from the previous functions. So we're going to get,\n",
    "* the input for the real images \n",
    "* the input for the latent vectors \n",
    "\n",
    "from the model input's function and then we're gonna create the generator network and the discriminator network. So here, we'll use the generator function to get the output, so generator `g_model` here is the output, and then we get the logits from the generator. And then here is the discriminator, `d_model_real`, so this is the output from the discriminator for real images and the logits for real images, and then here is wer output for fake images and wer logits for fake images. So remember that we're getting our fake images from a generator, so that is g_model here, so we want to pass our fake images into the discriminator and get our output from that, so that's what `d_model` is. So here, we're gonna use wer discriminator function and pass in `g_model`. And since we want to use the same weights for the real images and the fake images, we need to set reuse to True. So here we would do something like `discriminator(g_model, reuse=True)`."
   ]
  },
  {
   "cell_type": "code",
   "execution_count": 7,
   "metadata": {
    "collapsed": false,
    "deletable": true,
    "editable": true
   },
   "outputs": [],
   "source": [
    "tf.reset_default_graph()\n",
    "# Create our input placeholders\n",
    "input_real, input_z = model_inputs(input_size, z_size)\n",
    "\n",
    "# Generator network here\n",
    "# G model is the changed output from our generator, and this is the logits\n",
    "g_model, g_logits = generator(input_z, input_size, n_units=g_hidden_size, alpha=alpha)\n",
    "# g_model is the generator output\n",
    "\n",
    "# Disriminator network output\n",
    "d_model_real, d_logits_real = discriminator(input_real, n_units=d_hidden_size, alpha=alpha)\n",
    "d_model_fake, d_logits_fake = discriminator(g_model, reuse=True, n_units=d_hidden_size, alpha=alpha)"
   ]
  },
  {
   "cell_type": "markdown",
   "metadata": {
    "deletable": true,
    "editable": true
   },
   "source": [
    "## Discriminator and Generator Losses\n",
    "\n",
    "We train the discriminator and generator networks at the same time. So we need losses for both of the different networks.\n",
    "\n",
    " \n",
    "Now we need to calculate the losses, which is a little tricky. For the discriminator, the total loss is the sum of the losses for real and fake images, `d_loss = d_loss_real + d_loss_fake`. The losses will by sigmoid cross-entropies, which we can get with `tf.nn.sigmoid_cross_entropy_with_logits`. We'll also wrap that in `tf.reduce_mean` to get the mean for all the images in the batch. So the losses will look something like \n",
    "\n",
    "```python\n",
    "tf.reduce_mean(tf.nn.sigmoid_cross_entropy_with_logits(logits=logits, labels=labels))\n",
    "```\n",
    "\n",
    "For the real image logits, we'll use `d_logits_real` which we got from the discriminator in the cell above. For the labels, we want them to be all ones, since these are all real images. To help the discriminator generalize better, the labels are reduced a bit from 1.0 to 0.9, for example,  using the parameter `smooth`. This is known as label smoothing, typically used with classifiers to improve performance. In TensorFlow, it looks something like `labels = tf.ones_like(tensor) * (1 - smooth)`\n",
    "\n",
    "The discriminator loss for the fake data is similar. The logits are `d_logits_fake`, which we got from passing the generator output to the discriminator. These fake logits are used with labels of all zeros. Remember that we want the discriminator to output 1 for real images and 0 for fake images, so we need to set up the losses to reflect that.\n",
    "\n",
    "Finally, the generator losses are using `d_logits_fake`, the fake image logits. But, now the labels are all ones. The generator is trying to fool the discriminator, so it wants to discriminator to output ones for fake images.\n",
    "\n",
    ">**Exercise:** Calculate the losses for the discriminator and the generator. There are two discriminator losses, one for real images and one for fake images. For the real image loss, use the real logits and (smoothed) labels of ones. For the fake image loss, use the fake logits with labels of all zeros. The total discriminator loss is the sum of those two losses. Finally, the generator loss again uses the fake logits from the discriminator, but this time the labels are all ones because the generator wants to fool the discriminator."
   ]
  },
  {
   "cell_type": "code",
   "execution_count": 8,
   "metadata": {
    "collapsed": true,
    "deletable": true,
    "editable": true
   },
   "outputs": [],
   "source": [
    "# Calculate losses\n",
    "d_loss_real = tf.reduce_mean(\n",
    "                  tf.nn.sigmoid_cross_entropy_with_logits(logits=d_logits_real, \n",
    "                                                          labels=tf.ones_like(d_logits_real) * (1 - smooth)))\n",
    "d_loss_fake = tf.reduce_mean(\n",
    "                  tf.nn.sigmoid_cross_entropy_with_logits(logits=d_logits_fake, \n",
    "                                                          labels=tf.zeros_like(d_logits_real)))\n",
    "d_loss = d_loss_real + d_loss_fake\n",
    "\n",
    "g_loss = tf.reduce_mean(\n",
    "             tf.nn.sigmoid_cross_entropy_with_logits(logits=d_logits_fake,\n",
    "                                                     labels=tf.ones_like(d_logits_fake)))"
   ]
  },
  {
   "cell_type": "markdown",
   "metadata": {
    "deletable": true,
    "editable": true
   },
   "source": [
    "## Optimizers\n",
    "we're going to be using an adam optimizer here because it works really well. So what we're doing here is we're actually going to be training the generator in discriminator variables separately\n",
    "\n",
    "\n",
    "We want to update the generator and discriminator variables separately. So we need to get the variables for each part and build optimizers for the two parts. To get all the trainable variables, we use `tf.trainable_variables()`. This creates a list of all the variables objects we've defined in our graph. Later we can iterate through it and do things to those variable objects.\n",
    "\n",
    "For the generator optimizer, we only want to generator variables.as you might remember, we used the variable scope to name all of our generator variables that, so they start with the word generator. So we can iterate through these lists that we got from trainable variables and we can create a new list that only has the variables that start with `generator`. So, we just need to iterate through the list from `tf.trainable_variables()` and keep variables that start with `generator`. Each variable object has an attribute `name` which holds the name of the variable as a string (`var.name == 'weights_0'` for instance). And that way we can have only trainable variables, that are in the generator graph and we can pass that to our atom optimizer so that we're only training those variables with the generator laws.\n",
    "\n",
    "We can do something similar with the discriminator. All the variables in the discriminator start with `discriminator`.\n",
    "\n",
    "Then, in the optimizer we pass the variable lists to the `var_list` keyword argument of the `minimize` method. This tells the optimizer to only update the listed variables. Something like `tf.train.AdamOptimizer().minimize(loss, var_list=var_list)` will only train the variables in `var_list`. you can pass in a list of variables and only those variables are going to be updated during the training.\n",
    "\n",
    ">**Exercise: ** Below, implement the optimizers for the generator and discriminator. First we'll need to get a list of trainable variables, then split that list into two lists, one for the generator variables and another for the discriminator variables. Finally, using `AdamOptimizer`, create an optimizer for each network that update the network variables separately."
   ]
  },
  {
   "cell_type": "code",
   "execution_count": 9,
   "metadata": {
    "collapsed": false,
    "deletable": true,
    "editable": true,
    "scrolled": true
   },
   "outputs": [],
   "source": [
    "# Optimizers\n",
    "learning_rate = 0.002\n",
    "\n",
    "# Get the trainable_variables, split into G and D parts\n",
    "t_vars = tf.trainable_variables()\n",
    "g_vars = [var for var in t_vars if var.name.startswith('generator')]\n",
    "d_vars = [var for var in t_vars if var.name.startswith('discriminator')]\n",
    "\n",
    "d_train_opt = tf.train.AdamOptimizer(learning_rate).minimize(d_loss, var_list=d_vars)\n",
    "g_train_opt = tf.train.AdamOptimizer(learning_rate).minimize(g_loss, var_list=g_vars)"
   ]
  },
  {
   "cell_type": "markdown",
   "metadata": {
    "deletable": true,
    "editable": true
   },
   "source": [
    "## Training"
   ]
  },
  {
   "cell_type": "markdown",
   "metadata": {},
   "source": [
    "Here we are doing a loop through our epochs. And then inside of this loop, we are starting a loop through our batches. So we can get our batches through `mnist.train.next_batch`. So the batch is a tuple and the first element is our images and the second element is the labels, but we don't really care about the labels, so we're just going to get the images. \n",
    "\n",
    "\n",
    "since we're using the tanh output on the generator, that means that the images from the generator are scaled from -1 to +1. \n",
    "\n",
    "\n",
    "The MNIST images are actually from 0 to 1, so we have to do this rescaling. So here I'm using batch images times 2 minus 1, and that rescales the images going into the discriminator.\n",
    "\n",
    "\n",
    "our z's, our latent vectors that are going into the generator. So it's just random noise from -1 to 1, and just creating a batch size and the z size."
   ]
  },
  {
   "cell_type": "code",
   "execution_count": 21,
   "metadata": {
    "collapsed": false,
    "deletable": true,
    "editable": true,
    "scrolled": true
   },
   "outputs": [
    {
     "name": "stdout",
     "output_type": "stream",
     "text": [
      "Epoch 1/100... Discriminator Loss: 0.3968... Generator Loss: 2.9774\n",
      "Epoch 2/100... Discriminator Loss: 0.3506... Generator Loss: 4.3563\n",
      "Epoch 3/100... Discriminator Loss: 0.3993... Generator Loss: 3.5280\n",
      "Epoch 4/100... Discriminator Loss: 0.4715... Generator Loss: 3.7795\n",
      "Epoch 5/100... Discriminator Loss: 0.6914... Generator Loss: 3.0944\n",
      "Epoch 6/100... Discriminator Loss: 0.6173... Generator Loss: 4.7404\n",
      "Epoch 7/100... Discriminator Loss: 1.1020... Generator Loss: 3.8393\n",
      "Epoch 8/100... Discriminator Loss: 0.9667... Generator Loss: 1.3836\n",
      "Epoch 9/100... Discriminator Loss: 2.1756... Generator Loss: 1.7195\n",
      "Epoch 10/100... Discriminator Loss: 1.3486... Generator Loss: 2.7166\n",
      "Epoch 11/100... Discriminator Loss: 0.7848... Generator Loss: 3.2271\n",
      "Epoch 12/100... Discriminator Loss: 0.8922... Generator Loss: 2.0358\n",
      "Epoch 13/100... Discriminator Loss: 1.3544... Generator Loss: 1.8341\n",
      "Epoch 14/100... Discriminator Loss: 1.4755... Generator Loss: 3.4732\n",
      "Epoch 15/100... Discriminator Loss: 0.9007... Generator Loss: 2.0471\n",
      "Epoch 16/100... Discriminator Loss: 1.0223... Generator Loss: 2.0372\n",
      "Epoch 17/100... Discriminator Loss: 1.6465... Generator Loss: 2.3296\n",
      "Epoch 18/100... Discriminator Loss: 1.3259... Generator Loss: 1.5975\n",
      "Epoch 19/100... Discriminator Loss: 0.9020... Generator Loss: 2.5845\n",
      "Epoch 20/100... Discriminator Loss: 0.7593... Generator Loss: 3.4942\n",
      "Epoch 21/100... Discriminator Loss: 0.8909... Generator Loss: 2.1925\n",
      "Epoch 22/100... Discriminator Loss: 1.3199... Generator Loss: 1.8280\n",
      "Epoch 23/100... Discriminator Loss: 0.7469... Generator Loss: 2.8460\n",
      "Epoch 24/100... Discriminator Loss: 0.8140... Generator Loss: 3.3158\n",
      "Epoch 25/100... Discriminator Loss: 1.0131... Generator Loss: 2.0788\n",
      "Epoch 26/100... Discriminator Loss: 0.8503... Generator Loss: 2.1621\n",
      "Epoch 27/100... Discriminator Loss: 0.8244... Generator Loss: 2.2730\n",
      "Epoch 28/100... Discriminator Loss: 0.8207... Generator Loss: 2.4510\n",
      "Epoch 29/100... Discriminator Loss: 0.8345... Generator Loss: 2.2447\n",
      "Epoch 30/100... Discriminator Loss: 0.9537... Generator Loss: 2.2295\n",
      "Epoch 31/100... Discriminator Loss: 0.7280... Generator Loss: 2.6740\n",
      "Epoch 32/100... Discriminator Loss: 0.7163... Generator Loss: 2.3631\n",
      "Epoch 33/100... Discriminator Loss: 0.7286... Generator Loss: 3.1105\n",
      "Epoch 34/100... Discriminator Loss: 0.7207... Generator Loss: 2.6462\n",
      "Epoch 35/100... Discriminator Loss: 0.7799... Generator Loss: 2.5607\n",
      "Epoch 36/100... Discriminator Loss: 0.8470... Generator Loss: 2.3967\n",
      "Epoch 37/100... Discriminator Loss: 1.0244... Generator Loss: 2.3737\n",
      "Epoch 38/100... Discriminator Loss: 0.9105... Generator Loss: 2.0553\n",
      "Epoch 39/100... Discriminator Loss: 0.8062... Generator Loss: 2.8809\n",
      "Epoch 40/100... Discriminator Loss: 1.0439... Generator Loss: 1.8622\n",
      "Epoch 41/100... Discriminator Loss: 1.1263... Generator Loss: 2.7498\n",
      "Epoch 42/100... Discriminator Loss: 0.9873... Generator Loss: 2.1169\n",
      "Epoch 43/100... Discriminator Loss: 0.9532... Generator Loss: 2.7228\n",
      "Epoch 44/100... Discriminator Loss: 0.7479... Generator Loss: 2.5852\n",
      "Epoch 45/100... Discriminator Loss: 0.8539... Generator Loss: 2.2909\n",
      "Epoch 46/100... Discriminator Loss: 0.9497... Generator Loss: 2.1776\n",
      "Epoch 47/100... Discriminator Loss: 1.0082... Generator Loss: 1.4471\n",
      "Epoch 48/100... Discriminator Loss: 0.9310... Generator Loss: 2.3519\n",
      "Epoch 49/100... Discriminator Loss: 0.9607... Generator Loss: 2.3023\n",
      "Epoch 50/100... Discriminator Loss: 0.7499... Generator Loss: 2.7655\n",
      "Epoch 51/100... Discriminator Loss: 0.6667... Generator Loss: 2.6476\n",
      "Epoch 52/100... Discriminator Loss: 0.9738... Generator Loss: 1.9190\n",
      "Epoch 53/100... Discriminator Loss: 0.7755... Generator Loss: 2.3315\n",
      "Epoch 54/100... Discriminator Loss: 0.8830... Generator Loss: 2.2114\n",
      "Epoch 55/100... Discriminator Loss: 0.9048... Generator Loss: 2.0946\n",
      "Epoch 56/100... Discriminator Loss: 0.9605... Generator Loss: 1.9721\n",
      "Epoch 57/100... Discriminator Loss: 0.8059... Generator Loss: 2.6671\n",
      "Epoch 58/100... Discriminator Loss: 0.9175... Generator Loss: 2.3157\n",
      "Epoch 59/100... Discriminator Loss: 0.8623... Generator Loss: 2.5683\n",
      "Epoch 60/100... Discriminator Loss: 0.7673... Generator Loss: 2.4490\n",
      "Epoch 61/100... Discriminator Loss: 0.9521... Generator Loss: 2.0481\n",
      "Epoch 62/100... Discriminator Loss: 0.8607... Generator Loss: 1.9192\n",
      "Epoch 63/100... Discriminator Loss: 0.8505... Generator Loss: 1.7376\n",
      "Epoch 64/100... Discriminator Loss: 0.7290... Generator Loss: 2.9810\n",
      "Epoch 65/100... Discriminator Loss: 0.8401... Generator Loss: 2.4928\n",
      "Epoch 66/100... Discriminator Loss: 0.9729... Generator Loss: 1.6466\n",
      "Epoch 67/100... Discriminator Loss: 0.9293... Generator Loss: 2.2873\n",
      "Epoch 68/100... Discriminator Loss: 0.8963... Generator Loss: 1.9202\n",
      "Epoch 69/100... Discriminator Loss: 0.7784... Generator Loss: 2.1184\n",
      "Epoch 70/100... Discriminator Loss: 0.8734... Generator Loss: 2.5422\n",
      "Epoch 71/100... Discriminator Loss: 1.0307... Generator Loss: 1.5180\n",
      "Epoch 72/100... Discriminator Loss: 0.8815... Generator Loss: 2.2873\n",
      "Epoch 73/100... Discriminator Loss: 1.0381... Generator Loss: 1.6907\n",
      "Epoch 74/100... Discriminator Loss: 1.0199... Generator Loss: 2.0689\n",
      "Epoch 75/100... Discriminator Loss: 0.9377... Generator Loss: 1.9017\n",
      "Epoch 76/100... Discriminator Loss: 0.7802... Generator Loss: 2.7070\n",
      "Epoch 77/100... Discriminator Loss: 0.7939... Generator Loss: 2.4677\n",
      "Epoch 78/100... Discriminator Loss: 1.0528... Generator Loss: 1.5803\n",
      "Epoch 79/100... Discriminator Loss: 0.9645... Generator Loss: 2.1821\n",
      "Epoch 80/100... Discriminator Loss: 0.7739... Generator Loss: 2.2475\n",
      "Epoch 81/100... Discriminator Loss: 0.9663... Generator Loss: 2.2028\n",
      "Epoch 82/100... Discriminator Loss: 1.2025... Generator Loss: 2.0935\n",
      "Epoch 83/100... Discriminator Loss: 0.9754... Generator Loss: 1.8836\n",
      "Epoch 84/100... Discriminator Loss: 0.8200... Generator Loss: 2.0316\n",
      "Epoch 85/100... Discriminator Loss: 1.0485... Generator Loss: 2.3420\n",
      "Epoch 86/100... Discriminator Loss: 0.9667... Generator Loss: 1.9279\n",
      "Epoch 87/100... Discriminator Loss: 0.8387... Generator Loss: 1.7857\n",
      "Epoch 88/100... Discriminator Loss: 0.9337... Generator Loss: 1.8740\n",
      "Epoch 89/100... Discriminator Loss: 0.8093... Generator Loss: 2.4084\n",
      "Epoch 90/100... Discriminator Loss: 0.8690... Generator Loss: 1.9551\n",
      "Epoch 91/100... Discriminator Loss: 0.8831... Generator Loss: 2.1883\n",
      "Epoch 92/100... Discriminator Loss: 0.9753... Generator Loss: 1.6095\n",
      "Epoch 93/100... Discriminator Loss: 1.0028... Generator Loss: 1.9566\n",
      "Epoch 94/100... Discriminator Loss: 0.8732... Generator Loss: 2.0260\n",
      "Epoch 95/100... Discriminator Loss: 0.9723... Generator Loss: 2.3435\n",
      "Epoch 96/100... Discriminator Loss: 0.9841... Generator Loss: 2.2685\n",
      "Epoch 97/100... Discriminator Loss: 1.3040... Generator Loss: 1.2124\n",
      "Epoch 98/100... Discriminator Loss: 0.9387... Generator Loss: 1.9237\n",
      "Epoch 99/100... Discriminator Loss: 1.0687... Generator Loss: 2.0256\n",
      "Epoch 100/100... Discriminator Loss: 0.9640... Generator Loss: 1.4761\n"
     ]
    }
   ],
   "source": [
    "batch_size = 100\n",
    "epochs = 100\n",
    "samples = []\n",
    "losses = []\n",
    "# Only save generator variables\n",
    "saver = tf.train.Saver(var_list=g_vars)\n",
    "with tf.Session() as sess:\n",
    "    sess.run(tf.global_variables_initializer())\n",
    "    for e in range(epochs):\n",
    "        for ii in range(mnist.train.num_examples//batch_size):\n",
    "            batch = mnist.train.next_batch(batch_size)\n",
    "            \n",
    "            # Get images, reshape and rescale to pass to D\n",
    "            batch_images = batch[0].reshape((batch_size, 784))\n",
    "            batch_images = batch_images*2 - 1\n",
    "            \n",
    "            # Sample random noise for G\n",
    "            batch_z = np.random.uniform(-1, 1, size=(batch_size, z_size))\n",
    "            \n",
    "            # Run optimizers\n",
    "            _ = sess.run(d_train_opt, feed_dict={input_real: batch_images, input_z: batch_z})\n",
    "            _ = sess.run(g_train_opt, feed_dict={input_z: batch_z})\n",
    "        \n",
    "        # At the end of each epoch, get the losses and print them out\n",
    "        train_loss_d = sess.run(d_loss, {input_z: batch_z, input_real: batch_images})\n",
    "        train_loss_g = g_loss.eval({input_z: batch_z})\n",
    "            \n",
    "        print(\"Epoch {}/{}...\".format(e+1, epochs),\n",
    "              \"Discriminator Loss: {:.4f}...\".format(train_loss_d),\n",
    "              \"Generator Loss: {:.4f}\".format(train_loss_g))    \n",
    "        # Save losses to view after training\n",
    "        losses.append((train_loss_d, train_loss_g))\n",
    "        \n",
    "        # Sample from generator as we're training for viewing afterwards\n",
    "        sample_z = np.random.uniform(-1, 1, size=(16, z_size))\n",
    "        gen_samples = sess.run(\n",
    "                       generator(input_z, input_size, n_units=g_hidden_size, reuse=True, alpha=alpha),\n",
    "                       feed_dict={input_z: sample_z})\n",
    "        samples.append(gen_samples)\n",
    "        saver.save(sess, './checkpoints/generator.ckpt')\n",
    "\n",
    "# Save training generator samples\n",
    "with open('train_samples.pkl', 'wb') as f:\n",
    "    pkl.dump(samples, f)"
   ]
  },
  {
   "cell_type": "markdown",
   "metadata": {
    "deletable": true,
    "editable": true
   },
   "source": [
    "## Training loss\n",
    "\n",
    "Here we'll check out the training losses for the generator and discriminator."
   ]
  },
  {
   "cell_type": "code",
   "execution_count": 22,
   "metadata": {
    "collapsed": true,
    "deletable": true,
    "editable": true
   },
   "outputs": [],
   "source": [
    "%matplotlib inline\n",
    "\n",
    "import matplotlib.pyplot as plt"
   ]
  },
  {
   "cell_type": "code",
   "execution_count": 23,
   "metadata": {
    "collapsed": false,
    "deletable": true,
    "editable": true
   },
   "outputs": [
    {
     "data": {
      "text/plain": [
       "<matplotlib.legend.Legend at 0x123ab2a58>"
      ]
     },
     "execution_count": 23,
     "metadata": {},
     "output_type": "execute_result"
    },
    {
     "data": {
      "image/png": "[encoded data removed]",
      "text/plain": [
       "<matplotlib.figure.Figure at 0x11c008d68>"
      ]
     },
     "metadata": {},
     "output_type": "display_data"
    }
   ],
   "source": [
    "fig, ax = plt.subplots()\n",
    "losses = np.array(losses)\n",
    "plt.plot(losses.T[0], label='Discriminator')\n",
    "plt.plot(losses.T[1], label='Generator')\n",
    "plt.title(\"Training Losses\")\n",
    "plt.legend()"
   ]
  },
  {
   "cell_type": "markdown",
   "metadata": {
    "deletable": true,
    "editable": true
   },
   "source": [
    "## Generator samples from training\n",
    "\n",
    "Here we can view samples of images from the generator. First we'll look at images taken while training."
   ]
  },
  {
   "cell_type": "code",
   "execution_count": 24,
   "metadata": {
    "collapsed": true,
    "deletable": true,
    "editable": true
   },
   "outputs": [],
   "source": [
    "def view_samples(epoch, samples):\n",
    "    fig, axes = plt.subplots(figsize=(7,7), nrows=4, ncols=4, sharey=True, sharex=True)\n",
    "    for ax, img in zip(axes.flatten(), samples[epoch]):\n",
    "        ax.xaxis.set_visible(False)\n",
    "        ax.yaxis.set_visible(False)\n",
    "        im = ax.imshow(img.reshape((28,28)), cmap='Greys_r')\n",
    "    \n",
    "    return fig, axes"
   ]
  },
  {
   "cell_type": "code",
   "execution_count": 25,
   "metadata": {
    "collapsed": true,
    "deletable": true,
    "editable": true
   },
   "outputs": [],
   "source": [
    "# Load samples from generator taken while training\n",
    "with open('train_samples.pkl', 'rb') as f:\n",
    "    samples = pkl.load(f)"
   ]
  },
  {
   "cell_type": "markdown",
   "metadata": {
    "deletable": true,
    "editable": true
   },
   "source": [
    "These are samples from the final training epoch. we can see the generator is able to reproduce numbers like 5, 7, 3, 0, 9. Since this is just a sample, it isn't representative of the full range of images this generator can make."
   ]
  },
  {
   "cell_type": "code",
   "execution_count": 26,
   "metadata": {
    "collapsed": false,
    "deletable": true,
    "editable": true
   },
   "outputs": [
    {
     "ename": "ValueError",
     "evalue": "cannot reshape array of size 12544 into shape (28,28)",
     "output_type": "error",
     "traceback": [
      "\u001b[0;31m---------------------------------------------------------------------------\u001b[0m",
      "\u001b[0;31mValueError\u001b[0m                                Traceback (most recent call last)",
      "\u001b[0;32m<ipython-input-26-7a5bc1916cf1>\u001b[0m in \u001b[0;36m<module>\u001b[0;34m()\u001b[0m\n\u001b[0;32m----> 1\u001b[0;31m \u001b[0m_\u001b[0m \u001b[0;34m=\u001b[0m \u001b[0mview_samples\u001b[0m\u001b[0;34m(\u001b[0m\u001b[0;34m-\u001b[0m\u001b[0;36m1\u001b[0m\u001b[0;34m,\u001b[0m \u001b[0msamples\u001b[0m\u001b[0;34m)\u001b[0m\u001b[0;34m\u001b[0m\u001b[0m\n\u001b[0m",
      "\u001b[0;32m<ipython-input-24-36be4b0762b1>\u001b[0m in \u001b[0;36mview_samples\u001b[0;34m(epoch, samples)\u001b[0m\n\u001b[1;32m      4\u001b[0m         \u001b[0max\u001b[0m\u001b[0;34m.\u001b[0m\u001b[0mxaxis\u001b[0m\u001b[0;34m.\u001b[0m\u001b[0mset_visible\u001b[0m\u001b[0;34m(\u001b[0m\u001b[0;32mFalse\u001b[0m\u001b[0;34m)\u001b[0m\u001b[0;34m\u001b[0m\u001b[0m\n\u001b[1;32m      5\u001b[0m         \u001b[0max\u001b[0m\u001b[0;34m.\u001b[0m\u001b[0myaxis\u001b[0m\u001b[0;34m.\u001b[0m\u001b[0mset_visible\u001b[0m\u001b[0;34m(\u001b[0m\u001b[0;32mFalse\u001b[0m\u001b[0;34m)\u001b[0m\u001b[0;34m\u001b[0m\u001b[0m\n\u001b[0;32m----> 6\u001b[0;31m         \u001b[0mim\u001b[0m \u001b[0;34m=\u001b[0m \u001b[0max\u001b[0m\u001b[0;34m.\u001b[0m\u001b[0mimshow\u001b[0m\u001b[0;34m(\u001b[0m\u001b[0mimg\u001b[0m\u001b[0;34m.\u001b[0m\u001b[0mreshape\u001b[0m\u001b[0;34m(\u001b[0m\u001b[0;34m(\u001b[0m\u001b[0;36m28\u001b[0m\u001b[0;34m,\u001b[0m\u001b[0;36m28\u001b[0m\u001b[0;34m)\u001b[0m\u001b[0;34m)\u001b[0m\u001b[0;34m,\u001b[0m \u001b[0mcmap\u001b[0m\u001b[0;34m=\u001b[0m\u001b[0;34m'Greys_r'\u001b[0m\u001b[0;34m)\u001b[0m\u001b[0;34m\u001b[0m\u001b[0m\n\u001b[0m\u001b[1;32m      7\u001b[0m \u001b[0;34m\u001b[0m\u001b[0m\n\u001b[1;32m      8\u001b[0m     \u001b[0;32mreturn\u001b[0m \u001b[0mfig\u001b[0m\u001b[0;34m,\u001b[0m \u001b[0maxes\u001b[0m\u001b[0;34m\u001b[0m\u001b[0m\n",
      "\u001b[0;31mValueError\u001b[0m: cannot reshape array of size 12544 into shape (28,28)"
     ]
    },
    {
     "data": {
      "image/png": "[encoded data removed]",
      "text/plain": [
       "<matplotlib.figure.Figure at 0x11b458b38>"
      ]
     },
     "metadata": {},
     "output_type": "display_data"
    }
   ],
   "source": [
    "_ = view_samples(-1, samples)"
   ]
  },
  {
   "cell_type": "markdown",
   "metadata": {
    "deletable": true,
    "editable": true
   },
   "source": [
    "Below I'm showing the generated images as the network was training, every 10 epochs. With bonus optical illusion!"
   ]
  },
  {
   "cell_type": "code",
   "execution_count": null,
   "metadata": {
    "collapsed": false,
    "deletable": true,
    "editable": true
   },
   "outputs": [],
   "source": [
    "rows, cols = 10, 6\n",
    "fig, axes = plt.subplots(figsize=(7,12), nrows=rows, ncols=cols, sharex=True, sharey=True)\n",
    "\n",
    "for sample, ax_row in zip(samples[::int(len(samples)/rows)], axes):\n",
    "    for img, ax in zip(sample[::int(len(sample)/cols)], ax_row):\n",
    "        ax.imshow(img.reshape((28,28)), cmap='Greys_r')\n",
    "        ax.xaxis.set_visible(False)\n",
    "        ax.yaxis.set_visible(False)"
   ]
  },
  {
   "cell_type": "markdown",
   "metadata": {
    "deletable": true,
    "editable": true
   },
   "source": [
    "It starts out as all noise. Then it learns to make only the center white and the rest black. we can start to see some number like structures appear out of the noise. Looks like 1, 9, and 8 show up first. Then, it learns 5 and 3."
   ]
  },
  {
   "cell_type": "markdown",
   "metadata": {
    "deletable": true,
    "editable": true
   },
   "source": [
    "## Sampling from the generator\n",
    "\n",
    "We can also get completely new images from the generator by using the checkpoint we saved after training. We just need to pass in a new latent vector $z$ and we'll get new samples!"
   ]
  },
  {
   "cell_type": "code",
   "execution_count": null,
   "metadata": {
    "collapsed": false,
    "deletable": true,
    "editable": true
   },
   "outputs": [],
   "source": [
    "saver = tf.train.Saver(var_list=g_vars)\n",
    "with tf.Session() as sess:\n",
    "    saver.restore(sess, tf.train.latest_checkpoint('checkpoints'))\n",
    "    sample_z = np.random.uniform(-1, 1, size=(16, z_size))\n",
    "    gen_samples = sess.run(\n",
    "                   generator(input_z, input_size, n_units=g_hidden_size, reuse=True, alpha=alpha),\n",
    "                   feed_dict={input_z: sample_z})\n",
    "view_samples(0, [gen_samples])"
   ]
  },
  {
   "cell_type": "code",
   "execution_count": null,
   "metadata": {
    "collapsed": true
   },
   "outputs": [],
   "source": []
  },
  {
   "cell_type": "code",
   "execution_count": null,
   "metadata": {
    "collapsed": true
   },
   "outputs": [],
   "source": []
  }
 ],
 "metadata": {
  "hide_input": false,
  "kernelspec": {
   "display_name": "Python [conda env:dlnd]",
   "language": "python",
   "name": "conda-env-dlnd-py"
  },
  "language_info": {
   "codemirror_mode": {
    "name": "ipython",
    "version": 3
   },
   "file_extension": ".py",
   "mimetype": "text/x-python",
   "name": "python",
   "nbconvert_exporter": "python",
   "pygments_lexer": "ipython3",
   "version": "3.5.3"
  },
  "toc": {
   "nav_menu": {},
   "number_sections": true,
   "sideBar": true,
   "skip_h1_title": false,
   "title_cell": "Table of Contents",
   "title_sidebar": "Contents",
   "toc_cell": false,
   "toc_position": {},
   "toc_section_display": true,
   "toc_window_display": false
  }
 },
 "nbformat": 4,
 "nbformat_minor": 2
}
