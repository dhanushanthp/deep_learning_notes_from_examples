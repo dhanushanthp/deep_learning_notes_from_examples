{
 "cells": [
  {
   "cell_type": "code",
   "execution_count": null,
   "metadata": {},
   "outputs": [],
   "source": [
    "import time\n",
    "from collections import namedtuple\n",
    "import numpy as np\n",
    "import tensorflow as tf"
   ]
  },
  {
   "cell_type": "markdown",
   "metadata": {},
   "source": [
    "# Data Preparation"
   ]
  },
  {
   "cell_type": "markdown",
   "metadata": {},
   "source": [
    "## Load the file"
   ]
  },
  {
   "cell_type": "code",
   "execution_count": null,
   "metadata": {},
   "outputs": [],
   "source": [
    "with open('anna.txt', 'r') as f:\n",
    "    text = f.read()\n",
    "vocab = sorted(set(text))\n",
    "vocab_to_int = {c: i for i, c in enumerate(vocab)}\n",
    "int_to_vocab = dict(enumerate(vocab))\n",
    "\n",
    "# Convert all the text as integer\n",
    "encoded = np.array([vocab_to_int[c] for c in text], dtype=np.int32)"
   ]
  },
  {
   "cell_type": "markdown",
   "metadata": {},
   "source": [
    "## Create mini batch"
   ]
  },
  {
   "cell_type": "code",
   "execution_count": null,
   "metadata": {
    "code_folding": []
   },
   "outputs": [],
   "source": [
    "def get_batches(arr, batch_size, n_steps):\n",
    "    # Get the total number of characters per batch\n",
    "    chars_per_batch = batch_size * n_steps\n",
    "\n",
    "    # Total Number of batchs\n",
    "    n_batches = len(arr) // chars_per_batch\n",
    "\n",
    "    # Get the full pack of charactors for each batch\n",
    "    arr = arr[:n_batches * chars_per_batch]\n",
    "\n",
    "    # Reshape the array by batch_size, Horizonal reshaping based on batch size.\n",
    "    arr = arr.reshape((batch_size, -1))\n",
    "\n",
    "    # Create steps from mini batch, Keep in mind this is a matrix\n",
    "    for n in range(0, arr.shape[1], n_steps):\n",
    "        x = arr[:, n:n + n_steps]\n",
    "\n",
    "        # At last batch the y will be sort by 1 charactor. That will create error in `tf.nn.dynamic_rnn` for array size mis match\n",
    "        y_temp = arr[:, n + 1:n + n_steps + 1]\n",
    "        \n",
    "        # Create a zero array and append with y output\n",
    "        y = np.zeros(x.shape, dtype=np.int32)\n",
    "        y[:, :y_temp.shape[1]] = y_temp\n",
    "        \n",
    "        # To handle memory\n",
    "        yield x, y"
   ]
  },
  {
   "cell_type": "markdown",
   "metadata": {},
   "source": [
    "### Test batch function"
   ]
  },
  {
   "cell_type": "code",
   "execution_count": null,
   "metadata": {},
   "outputs": [],
   "source": [
    "# Test\n",
    "batch_size = 10; n_steps=5\n",
    "batchs = get_batchs(encoded, batch_size, n_steps)\n",
    "x, y = next(batchs)\n",
    "print(x)\n",
    "print(y)"
   ]
  },
  {
   "cell_type": "markdown",
   "metadata": {},
   "source": [
    "# Tensorflow Initialization"
   ]
  },
  {
   "cell_type": "markdown",
   "metadata": {},
   "source": [
    "## Building Inputs"
   ]
  },
  {
   "cell_type": "code",
   "execution_count": null,
   "metadata": {},
   "outputs": [],
   "source": [
    "def build_inputs(batch_size, n_steps):\n",
    "    inputs = tf.placeholder(\n",
    "        shape=[batch_size, n_steps], dtype=tf.int32, name='inputs')\n",
    "    \n",
    "    outputs = tf.placeholder(\n",
    "        shape=[batch_size, n_steps], dtype=tf.int32, name='outputs')\n",
    "    \n",
    "    keep_prob = tf.placeholder(dtype=tf.float32, name='keep_prob')\n",
    "    \n",
    "    print('Shape of the input tensor: {}'.format(inputs.get_shape()))\n",
    "    print('Shape of the output tensor: {}'.format(outputs.get_shape()))\n",
    "    \n",
    "    return inputs, outputs, keep_prob"
   ]
  },
  {
   "cell_type": "markdown",
   "metadata": {},
   "source": [
    "## LSTM cells"
   ]
  },
  {
   "cell_type": "code",
   "execution_count": null,
   "metadata": {},
   "outputs": [],
   "source": [
    "def build_lstm(lstm_size, num_layers, batch_size, keep_prob):\n",
    "\n",
    "    # Single cell creation\n",
    "    def build_cell(lstm_size, keep_prob):\n",
    "        cell = tf.contrib.rnn.BasicLSTMCell(lstm_size)\n",
    "        drop = tf.contrib.rnn.DropoutWrapper(cell, output_keep_prob=keep_prob)\n",
    "        return drop\n",
    "\n",
    "    # Initialize different cells by calling single cell creation function\n",
    "    cells = tf.contrib.rnn.MultiRNNCell(\n",
    "        [build_cell(lstm_size, keep_prob) for _ in range(num_layers)])\n",
    "    \n",
    "    print('ALL LSTM cells creation: {}'.format(cells))\n",
    "\n",
    "    # Values that pass to another cell horizontally for memory or time-steps\n",
    "    initial_state = cells.zero_state(batch_size, tf.float32)\n",
    "    \n",
    "    return cells, initial_state"
   ]
  },
  {
   "cell_type": "markdown",
   "metadata": {},
   "source": [
    "## Build Output "
   ]
  },
  {
   "cell_type": "code",
   "execution_count": null,
   "metadata": {},
   "outputs": [],
   "source": [
    "def build_output(lstm_output, lstm_size, number_of_classes):\n",
    "    # lstm_output comes as list. Concat to create as array\n",
    "    pre_output = tf.concat(lstm_output, axis=1)\n",
    "\n",
    "    # Reshape the output matrix as [batch_size*n_steps X lstm_size]\n",
    "    # Each row output for each charactor. The number of rows will batch_size*n_steps.\n",
    "    output = tf.reshape(pre_output, [-1, lstm_size])\n",
    "\n",
    "    # Apply softmax function by creation a softmax layer\n",
    "    # `variable_scope` helps to change the default name for weight initialization.\n",
    "    #  Because RNN cell also have weights and bias with the default\n",
    "    with tf.variable_scope('softmax'):\n",
    "        softmax_w = tf.Variable(\n",
    "            tf.truncated_normal((lstm_size, number_of_classes), stddev=0.1))\n",
    "        softmax_b = tf.Variable(tf.zeros(number_of_classes))\n",
    "\n",
    "    # Input for softmax function\n",
    "    logits = tf.matmul(output, softmax_w) + softmax_b\n",
    "\n",
    "    predictions = tf.nn.softmax(logits, name='predictions')\n",
    "    \n",
    "    return predictions, logits"
   ]
  },
  {
   "cell_type": "markdown",
   "metadata": {},
   "source": [
    "## Training loss"
   ]
  },
  {
   "cell_type": "code",
   "execution_count": null,
   "metadata": {},
   "outputs": [],
   "source": [
    "def build_loss(logits, targets, lstm_size, num_of_classes):\n",
    "\n",
    "    # convert the numbers to one hot encoding\n",
    "    target_one_hot = tf.one_hot(targets, num_of_classes)\n",
    "\n",
    "    # Change the shape similer to output from RNN\n",
    "    target = tf.reshape(target_one_hot, logits.get_shape())\n",
    "\n",
    "    # Apply cross entrophy\n",
    "    loss = tf.nn.softmax_cross_entropy_with_logits(\n",
    "        logits=logits, labels=target)\n",
    "    \n",
    "    loss = tf.reduce_mean(loss)\n",
    "\n",
    "    return loss"
   ]
  },
  {
   "cell_type": "markdown",
   "metadata": {},
   "source": [
    "## Optimizer or Simple gradient decent"
   ]
  },
  {
   "cell_type": "markdown",
   "metadata": {},
   "source": [
    "* `tf.trainable_variables`: weights and bias used during the training, This is assigned by TF\n",
    "\n",
    "* `tf.gradients`: Constructs symbolic partial derivatives of sum of ys w.r.t. x in xs. That return $\\delta w, \\delta b = tf.gradients(cost, [W, b])$. The `tf.gradients()` returns the gradient of cost wrt each tensor in the second argument as a list in the same order.\n",
    "\n",
    "* `tf.clip_by_global_norm` is a function to put the upper bound on the gradient value wrt to each variables. `grad_clip` is the upper bound.\n",
    "\n",
    "* AdamOptimizer is used to minimise the prediction error. It is variation of gradient descent. \n",
    "Here's a list on optimizers"
   ]
  },
  {
   "cell_type": "code",
   "execution_count": null,
   "metadata": {},
   "outputs": [],
   "source": [
    "def build_optimizer(loss, learning_rate, grad_clip):\n",
    "    # weights and bias used during the training, This is assigned by TF\n",
    "    tvars = tf.trainable_variables()\n",
    "    grads, _ = tf.clip_by_global_norm(tf.gradients(loss, tvars), grad_clip)\n",
    "    \n",
    "    train_op = tf.train.AdamOptimizer(learning_rate)\n",
    "    \n",
    "    # Tune the weights\n",
    "    optimizer = train_op.apply_gradients(zip(grads, tvars))\n",
    "    \n",
    "    return optimizer"
   ]
  },
  {
   "cell_type": "markdown",
   "metadata": {},
   "source": [
    "# Building Network"
   ]
  },
  {
   "cell_type": "code",
   "execution_count": null,
   "metadata": {},
   "outputs": [],
   "source": [
    "class CharRNN:\n",
    "    def __init__(self, num_classes, batch_size=64, num_steps = 50, lstm_size=128, num_layers = 2, learning_rate=0.001,\n",
    "                grad_clip=5, sampling=False):\n",
    "\n",
    "        if sampling==True:\n",
    "            batch_size, num_steps = 1\n",
    "\n",
    "        # Reset all variabled that has mapped with this model\n",
    "        tf.reset_default_graph()\n",
    "        \n",
    "        # Tensor input\n",
    "        self.inputs, self.targets, self.keep_prob = build_inputs(batch_size, num_steps)\n",
    "        \n",
    "        # Tensor cells and state.\n",
    "        cell, self.initial_state = build_lstm(lstm_size, num_layers, batch_size, self.keep_prob)\n",
    "        \n",
    "#         # Encode the inputs.\n",
    "        input_one_hot = tf.one_hot(self.inputs, num_classes)\n",
    "        \n",
    "#         # Create a RNN network with LSTM cell, input and initial state\n",
    "        outputs, state = tf.nn.dynamic_rnn(cell, input_one_hot, initial_state=self.initial_state)\n",
    "        self.final_state = state\n",
    "        \n",
    "        self.prediction, self.logits = build_output(outputs, lstm_size, num_classes)\n",
    "        \n",
    "        self.loss = build_loss(self.logits, self.targets, lstm_size, num_classes)\n",
    "        \n",
    "        self.optimizer = build_optimizer(self.loss, learning_rate, grad_clip)"
   ]
  },
  {
   "cell_type": "code",
   "execution_count": null,
   "metadata": {},
   "outputs": [],
   "source": [
    "batch_size = 100        # Sequences per batch\n",
    "num_steps = 100         # Number of sequence steps per batch\n",
    "lstm_size = 512         # Size of hidden layers in LSTMs\n",
    "num_layers = 2          # Number of LSTM layers\n",
    "learning_rate = 0.001   # Learning rate\n",
    "keep_prob = 0.5         # Dropout keep probability"
   ]
  },
  {
   "cell_type": "code",
   "execution_count": null,
   "metadata": {},
   "outputs": [],
   "source": [
    "epochs = 20\n",
    "\n",
    "# Print losses every N interations\n",
    "print_every_n = 50\n",
    "\n",
    "# Save every N iterations\n",
    "save_every_n = 200\n",
    "\n",
    "model = CharRNN(len(vocab), batch_size=batch_size, num_steps=num_steps,\n",
    "                lstm_size=lstm_size, num_layers=num_layers, \n",
    "                learning_rate=learning_rate)\n",
    "\n",
    "saver = tf.train.Saver(max_to_keep=100)"
   ]
  },
  {
   "cell_type": "code",
   "execution_count": null,
   "metadata": {},
   "outputs": [],
   "source": [
    "with tf.Session() as sess:\n",
    "    sess.run(tf.global_variables_initializer())\n",
    "    \n",
    "    # Use the line below to load a checkpoint and resume training\n",
    "    #saver.restore(sess, 'checkpoints/______.ckpt')\n",
    "    counter = 0\n",
    "    for e in range(epochs):\n",
    "        # Train network\n",
    "        new_state = sess.run(model.initial_state)\n",
    "        loss = 0\n",
    "        for x, y in get_batches(encoded, batch_size, num_steps):\n",
    "            counter += 1\n",
    "            start = time.time()\n",
    "            feed = {model.inputs: x,\n",
    "                    model.targets: y,\n",
    "                    model.keep_prob: keep_prob,\n",
    "                    model.initial_state: new_state}\n",
    "            batch_loss, new_state, _ = sess.run([model.loss, \n",
    "                                                 model.final_state, \n",
    "                                                 model.optimizer], \n",
    "                                                 feed_dict=feed)\n",
    "            if (counter % print_every_n == 0):\n",
    "                end = time.time()\n",
    "                print('Epoch: {}/{}... '.format(e+1, epochs),\n",
    "                      'Training Step: {}... '.format(counter),\n",
    "                      'Training loss: {:.4f}... '.format(batch_loss),\n",
    "                      '{:.4f} sec/batch'.format((end-start)))\n",
    "        \n",
    "            if (counter % save_every_n == 0):\n",
    "                saver.save(sess, \"checkpoints/i{}_l{}.ckpt\".format(counter, lstm_size))\n",
    "    \n",
    "    saver.save(sess, \"checkpoints/i{}_l{}.ckpt\".format(counter, lstm_size))"
   ]
  },
  {
   "cell_type": "markdown",
   "metadata": {},
   "source": [
    "# Trained models"
   ]
  },
  {
   "cell_type": "code",
   "execution_count": null,
   "metadata": {},
   "outputs": [],
   "source": []
  }
 ],
 "metadata": {
  "hide_input": false,
  "kernelspec": {
   "display_name": "Python [conda env:anaconda3]",
   "language": "python",
   "name": "conda-env-anaconda3-py"
  },
  "language_info": {
   "codemirror_mode": {
    "name": "ipython",
    "version": 3
   },
   "file_extension": ".py",
   "mimetype": "text/x-python",
   "name": "python",
   "nbconvert_exporter": "python",
   "pygments_lexer": "ipython3",
   "version": "3.5.4"
  },
  "toc": {
   "nav_menu": {},
   "number_sections": true,
   "sideBar": true,
   "skip_h1_title": false,
   "title_cell": "Table of Contents",
   "title_sidebar": "Contents",
   "toc_cell": false,
   "toc_position": {
    "height": "calc(100% - 180px)",
    "left": "10px",
    "top": "150px",
    "width": "384px"
   },
   "toc_section_display": true,
   "toc_window_display": true
  }
 },
 "nbformat": 4,
 "nbformat_minor": 2
}
