{
 "cells": [
  {
   "cell_type": "code",
   "execution_count": 1,
   "metadata": {
    "collapsed": true
   },
   "outputs": [],
   "source": [
    "import numpy as np\n",
    "import sys\n",
    "from six import StringIO, b\n",
    "\n",
    "from gym import utils\n",
    "from gym.envs.toy_text import discrete\n",
    "\n",
    "LEFT = 0\n",
    "DOWN = 1\n",
    "RIGHT = 2\n",
    "UP = 3\n",
    "\n",
    "MAPS = {\n",
    "    \"4x4\": [\n",
    "        \"SFFF\",\n",
    "        \"FHFH\",\n",
    "        \"FFFH\",\n",
    "        \"HFFG\"\n",
    "    ],\n",
    "    \"8x8\": [\n",
    "        \"SFFFFFFF\",\n",
    "        \"FFFFFFFF\",\n",
    "        \"FFFHFFFF\",\n",
    "        \"FFFFFHFF\",\n",
    "        \"FFFHFFFF\",\n",
    "        \"FHHFFFHF\",\n",
    "        \"FHFFHFHF\",\n",
    "        \"FFFHFFFG\"\n",
    "    ],\n",
    "}"
   ]
  },
  {
   "cell_type": "code",
   "execution_count": 2,
   "metadata": {},
   "outputs": [
    {
     "data": {
      "text/plain": [
       "{'4x4': ['SFFF', 'FHFH', 'FFFH', 'HFFG'],\n",
       " '8x8': ['SFFFFFFF',\n",
       "  'FFFFFFFF',\n",
       "  'FFFHFFFF',\n",
       "  'FFFFFHFF',\n",
       "  'FFFHFFFF',\n",
       "  'FHHFFFHF',\n",
       "  'FHFFHFHF',\n",
       "  'FFFHFFFG']}"
      ]
     },
     "execution_count": 2,
     "metadata": {},
     "output_type": "execute_result"
    }
   ],
   "source": [
    "MAPS"
   ]
  },
  {
   "cell_type": "code",
   "execution_count": 3,
   "metadata": {
    "collapsed": true
   },
   "outputs": [],
   "source": [
    "desc = MAPS['4x4']"
   ]
  },
  {
   "cell_type": "code",
   "execution_count": 9,
   "metadata": {},
   "outputs": [
    {
     "data": {
      "text/plain": [
       "array([[b'S', b'F', b'F', b'F'],\n",
       "       [b'F', b'H', b'F', b'H'],\n",
       "       [b'F', b'F', b'F', b'H'],\n",
       "       [b'H', b'F', b'F', b'G']], \n",
       "      dtype='|S1')"
      ]
     },
     "execution_count": 9,
     "metadata": {},
     "output_type": "execute_result"
    }
   ],
   "source": [
    "# Create a environment as an matrix\n",
    "desc = np.asarray(desc, dtype='c')\n",
    "desc"
   ]
  },
  {
   "cell_type": "code",
   "execution_count": 12,
   "metadata": {
    "collapsed": true
   },
   "outputs": [],
   "source": [
    "# Size of the environment\n",
    "nrow, ncol = desc.shape"
   ]
  },
  {
   "cell_type": "markdown",
   "metadata": {},
   "source": [
    "Reward initialization"
   ]
  },
  {
   "cell_type": "code",
   "execution_count": 13,
   "metadata": {
    "collapsed": true
   },
   "outputs": [],
   "source": [
    "reward_range = (0,1)"
   ]
  },
  {
   "cell_type": "markdown",
   "metadata": {},
   "source": [
    "Action of the Agent"
   ]
  },
  {
   "cell_type": "code",
   "execution_count": 16,
   "metadata": {
    "collapsed": true
   },
   "outputs": [],
   "source": [
    "nA = 4"
   ]
  },
  {
   "cell_type": "markdown",
   "metadata": {},
   "source": [
    "Ste of the Agent"
   ]
  },
  {
   "cell_type": "code",
   "execution_count": 17,
   "metadata": {
    "collapsed": true
   },
   "outputs": [],
   "source": [
    "nS = nrow * ncol"
   ]
  },
  {
   "cell_type": "markdown",
   "metadata": {},
   "source": [
    "1. Identify the starting point by check with 'S'\n",
    "2. Convert the boolean values to float values\n",
    "3. Convert matrix as array"
   ]
  },
  {
   "cell_type": "code",
   "execution_count": 22,
   "metadata": {
    "collapsed": true
   },
   "outputs": [],
   "source": [
    "isd = np.array(desc == b'S').astype('float64').ravel()"
   ]
  },
  {
   "cell_type": "code",
   "execution_count": 25,
   "metadata": {},
   "outputs": [],
   "source": [
    "isd /= isd.sum()"
   ]
  },
  {
   "cell_type": "markdown",
   "metadata": {},
   "source": [
    "Mapping of Actions according to States. Where each state will have 4 actions. This will help to fill with probability for each action and states."
   ]
  },
  {
   "cell_type": "code",
   "execution_count": 33,
   "metadata": {},
   "outputs": [
    {
     "data": {
      "text/plain": [
       "{0: {0: [], 1: [], 2: [], 3: []},\n",
       " 1: {0: [], 1: [], 2: [], 3: []},\n",
       " 2: {0: [], 1: [], 2: [], 3: []},\n",
       " 3: {0: [], 1: [], 2: [], 3: []},\n",
       " 4: {0: [], 1: [], 2: [], 3: []},\n",
       " 5: {0: [], 1: [], 2: [], 3: []},\n",
       " 6: {0: [], 1: [], 2: [], 3: []},\n",
       " 7: {0: [], 1: [], 2: [], 3: []},\n",
       " 8: {0: [], 1: [], 2: [], 3: []},\n",
       " 9: {0: [], 1: [], 2: [], 3: []},\n",
       " 10: {0: [], 1: [], 2: [], 3: []},\n",
       " 11: {0: [], 1: [], 2: [], 3: []},\n",
       " 12: {0: [], 1: [], 2: [], 3: []},\n",
       " 13: {0: [], 1: [], 2: [], 3: []},\n",
       " 14: {0: [], 1: [], 2: [], 3: []},\n",
       " 15: {0: [], 1: [], 2: [], 3: []}}"
      ]
     },
     "execution_count": 33,
     "metadata": {},
     "output_type": "execute_result"
    }
   ],
   "source": [
    "P = {s: \n",
    "         {a: [] for a in range(nA)}\n",
    "                for s in range(nS)}\n",
    "\n",
    "# for each action(the list) will contains (prob, next_state, reward, done)\n",
    "P"
   ]
  },
  {
   "cell_type": "code",
   "execution_count": 43,
   "metadata": {
    "collapsed": true
   },
   "outputs": [],
   "source": [
    "# Returns the position of a state in array. Where If matrix position is\n",
    "# (1,1) then array position will be 5\n",
    "def to_s(row, col):\n",
    "    return row*ncol + col\n",
    "\n",
    "# Return the position of a state based on the action\n",
    "def inc(row, col, a):\n",
    "    if a==0: # left\n",
    "        col = max(col-1,0)\n",
    "    elif a==1: # down\n",
    "        row = min(row+1,nrow-1)\n",
    "    elif a==2: # right\n",
    "        col = min(col+1,ncol-1)\n",
    "    elif a==3: # up\n",
    "        row = max(row-1,0)\n",
    "    return (row, col)"
   ]
  },
  {
   "cell_type": "code",
   "execution_count": 45,
   "metadata": {},
   "outputs": [
    {
     "data": {
      "text/plain": [
       "5"
      ]
     },
     "execution_count": 45,
     "metadata": {},
     "output_type": "execute_result"
    }
   ],
   "source": [
    "to_s(1,1)"
   ]
  },
  {
   "cell_type": "code",
   "execution_count": 47,
   "metadata": {},
   "outputs": [
    {
     "data": {
      "text/plain": [
       "(0, 1)"
      ]
     },
     "execution_count": 47,
     "metadata": {},
     "output_type": "execute_result"
    }
   ],
   "source": [
    "inc(0,0,2) # State (0, 0) and turn RIGHT"
   ]
  },
  {
   "cell_type": "code",
   "execution_count": 50,
   "metadata": {
    "collapsed": true
   },
   "outputs": [],
   "source": [
    "is_slippery=True"
   ]
  },
  {
   "cell_type": "code",
   "execution_count": 53,
   "metadata": {},
   "outputs": [],
   "source": [
    "# Iterate through each row and column\n",
    "for row in range(nrow):\n",
    "    for col in range(ncol):\n",
    "\n",
    "        # Pick the state by row, column as an array location\n",
    "        s = to_s(row, col)\n",
    "        \n",
    "        # The reason for the range 4 is # of actions\n",
    "        for a in range(4):\n",
    "            \n",
    "            # Get array from the dictionary P\n",
    "            li = P[s][a]\n",
    "            \n",
    "            # Pick the letter\n",
    "            letter = desc[row, col]\n",
    "            if letter in b'GH':\n",
    "                li.append((1.0, s, 0, True))\n",
    "            else:\n",
    "                if is_slippery:\n",
    "                    for b in [(a-1)%4, a, (a+1)%4]:\n",
    "                        newrow, newcol = inc(row, col, b)\n",
    "                        newstate = to_s(newrow, newcol)\n",
    "                        newletter = desc[newrow, newcol]\n",
    "                        done = bytes(newletter) in b'GH'\n",
    "                        rew = float(newletter == b'G')\n",
    "                        li.append((1.0/3.0, newstate, rew, done))\n",
    "                else:\n",
    "                    newrow, newcol = inc(row, col, a)\n",
    "                    newstate = to_s(newrow, newcol)\n",
    "                    newletter = desc[newrow, newcol]\n",
    "                    done = bytes(newletter) in b'GH'\n",
    "                    rew = float(newletter == b'G')\n",
    "                    li.append((1.0, newstate, rew, done))"
   ]
  }
 ],
 "metadata": {
  "hide_input": false,
  "kernelspec": {
   "display_name": "Python 3",
   "language": "python",
   "name": "python3"
  },
  "language_info": {
   "codemirror_mode": {
    "name": "ipython",
    "version": 3
   },
   "file_extension": ".py",
   "mimetype": "text/x-python",
   "name": "python",
   "nbconvert_exporter": "python",
   "pygments_lexer": "ipython3",
   "version": "3.6.4"
  },
  "toc": {
   "nav_menu": {},
   "number_sections": true,
   "sideBar": true,
   "skip_h1_title": false,
   "title_cell": "Table of Contents",
   "title_sidebar": "Contents",
   "toc_cell": false,
   "toc_position": {},
   "toc_section_display": true,
   "toc_window_display": false
  }
 },
 "nbformat": 4,
 "nbformat_minor": 2
}
